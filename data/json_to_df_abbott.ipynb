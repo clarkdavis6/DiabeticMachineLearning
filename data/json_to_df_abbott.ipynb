{
 "cells": [
  {
   "cell_type": "code",
   "execution_count": 1,
   "metadata": {},
   "outputs": [],
   "source": [
    "import pandas as pd\n",
    "import json"
   ]
  },
  {
   "cell_type": "code",
   "execution_count": 2,
   "metadata": {},
   "outputs": [],
   "source": [
    "bg_mmol = []\n",
    "bg_mg = []\n",
    "bg_units = []\n",
    "timestamps = []\n",
    "\n",
    "\n",
    "with open(\"blip-input-abbott-dexcom.json\") as json_file:\n",
    "    data = json.load(json_file)\n",
    "    for record in data:\n",
    "        if \"value\" in record.keys():\n",
    "            bg_mmol.append(record[\"value\"])\n",
    "            bg_mg.append(round(record[\"value\"] * 18)) # Convert to mg/dl by multiplying mmol/L by 18\n",
    "            bg_units.append(record[\"units\"])\n",
    "            timestamps.append(record[\"time\"].replace(\"T\", \" \").replace(\"Z\", \"\"))\n",
    "            \n",
    "cgm_df = pd.DataFrame({\n",
    "    \"Blood Glucose (mmol/L)\" : bg_mmol,\n",
    "    \"Blood Glucose (mg/dL)\" : bg_mg,\n",
    "    \"Original Units\" : bg_units,\n",
    "    \"Timestamp\" : timestamps\n",
    "})\n",
    "            "
   ]
  },
  {
   "cell_type": "code",
   "execution_count": 3,
   "metadata": {},
   "outputs": [
    {
     "data": {
      "text/html": [
       "<div>\n",
       "<style scoped>\n",
       "    .dataframe tbody tr th:only-of-type {\n",
       "        vertical-align: middle;\n",
       "    }\n",
       "\n",
       "    .dataframe tbody tr th {\n",
       "        vertical-align: top;\n",
       "    }\n",
       "\n",
       "    .dataframe thead th {\n",
       "        text-align: right;\n",
       "    }\n",
       "</style>\n",
       "<table border=\"1\" class=\"dataframe\">\n",
       "  <thead>\n",
       "    <tr style=\"text-align: right;\">\n",
       "      <th></th>\n",
       "      <th>Blood Glucose (mmol/L)</th>\n",
       "      <th>Blood Glucose (mg/dL)</th>\n",
       "      <th>Original Units</th>\n",
       "      <th>Timestamp</th>\n",
       "    </tr>\n",
       "  </thead>\n",
       "  <tbody>\n",
       "    <tr>\n",
       "      <th>0</th>\n",
       "      <td>2.22030</td>\n",
       "      <td>40</td>\n",
       "      <td>mmol/L</td>\n",
       "      <td>2019-05-07 05:24:21.000</td>\n",
       "    </tr>\n",
       "    <tr>\n",
       "      <th>1</th>\n",
       "      <td>2.88639</td>\n",
       "      <td>52</td>\n",
       "      <td>mmol/L</td>\n",
       "      <td>2019-05-07 04:56:21.000</td>\n",
       "    </tr>\n",
       "    <tr>\n",
       "      <th>2</th>\n",
       "      <td>3.33045</td>\n",
       "      <td>60</td>\n",
       "      <td>mmol/L</td>\n",
       "      <td>2019-05-07 04:41:21.000</td>\n",
       "    </tr>\n",
       "    <tr>\n",
       "      <th>3</th>\n",
       "      <td>3.77451</td>\n",
       "      <td>68</td>\n",
       "      <td>mmol/L</td>\n",
       "      <td>2019-05-07 04:26:21.000</td>\n",
       "    </tr>\n",
       "    <tr>\n",
       "      <th>4</th>\n",
       "      <td>4.21857</td>\n",
       "      <td>76</td>\n",
       "      <td>mmol/L</td>\n",
       "      <td>2019-05-07 04:11:21.000</td>\n",
       "    </tr>\n",
       "  </tbody>\n",
       "</table>\n",
       "</div>"
      ],
      "text/plain": [
       "   Blood Glucose (mmol/L)  Blood Glucose (mg/dL) Original Units  \\\n",
       "0                 2.22030                     40         mmol/L   \n",
       "1                 2.88639                     52         mmol/L   \n",
       "2                 3.33045                     60         mmol/L   \n",
       "3                 3.77451                     68         mmol/L   \n",
       "4                 4.21857                     76         mmol/L   \n",
       "\n",
       "                 Timestamp  \n",
       "0  2019-05-07 05:24:21.000  \n",
       "1  2019-05-07 04:56:21.000  \n",
       "2  2019-05-07 04:41:21.000  \n",
       "3  2019-05-07 04:26:21.000  \n",
       "4  2019-05-07 04:11:21.000  "
      ]
     },
     "execution_count": 3,
     "metadata": {},
     "output_type": "execute_result"
    }
   ],
   "source": [
    "cgm_df.head()"
   ]
  },
  {
   "cell_type": "code",
   "execution_count": 4,
   "metadata": {},
   "outputs": [
    {
     "data": {
      "text/plain": [
       "count    75675.000000\n",
       "mean         8.696023\n",
       "std          3.642843\n",
       "min          2.164790\n",
       "25%          5.994810\n",
       "50%          8.104090\n",
       "75%         10.823960\n",
       "max         22.258500\n",
       "Name: Blood Glucose (mmol/L), dtype: float64"
      ]
     },
     "execution_count": 4,
     "metadata": {},
     "output_type": "execute_result"
    }
   ],
   "source": [
    "cgm_df['Blood Glucose (mmol/L)'].describe()"
   ]
  },
  {
   "cell_type": "code",
   "execution_count": 5,
   "metadata": {},
   "outputs": [
    {
     "data": {
      "text/plain": [
       "count    75675.000000\n",
       "mean       156.663984\n",
       "std         65.627970\n",
       "min         39.000000\n",
       "25%        108.000000\n",
       "50%        146.000000\n",
       "75%        195.000000\n",
       "max        401.000000\n",
       "Name: Blood Glucose (mg/dL), dtype: float64"
      ]
     },
     "execution_count": 5,
     "metadata": {},
     "output_type": "execute_result"
    }
   ],
   "source": [
    "cgm_df['Blood Glucose (mg/dL)'].describe()"
   ]
  },
  {
   "cell_type": "code",
   "execution_count": 6,
   "metadata": {},
   "outputs": [
    {
     "data": {
      "text/plain": [
       "array(['mmol/L'], dtype=object)"
      ]
     },
     "execution_count": 6,
     "metadata": {},
     "output_type": "execute_result"
    }
   ],
   "source": [
    "cgm_df[\"Original Units\"].unique()"
   ]
  },
  {
   "cell_type": "code",
   "execution_count": 7,
   "metadata": {},
   "outputs": [],
   "source": [
    "cgm_df.to_csv(\"abbottData.csv\", index=False)"
   ]
  },
  {
   "cell_type": "code",
   "execution_count": null,
   "metadata": {},
   "outputs": [],
   "source": []
  },
  {
   "cell_type": "code",
   "execution_count": null,
   "metadata": {},
   "outputs": [],
   "source": []
  }
 ],
 "metadata": {
  "kernelspec": {
   "display_name": "Python 3",
   "language": "python",
   "name": "python3"
  },
  "language_info": {
   "codemirror_mode": {
    "name": "ipython",
    "version": 3
   },
   "file_extension": ".py",
   "mimetype": "text/x-python",
   "name": "python",
   "nbconvert_exporter": "python",
   "pygments_lexer": "ipython3",
   "version": "3.7.3"
  }
 },
 "nbformat": 4,
 "nbformat_minor": 2
}
