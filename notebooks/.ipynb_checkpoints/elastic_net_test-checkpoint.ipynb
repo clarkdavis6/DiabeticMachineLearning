{
 "cells": [
  {
   "cell_type": "code",
   "execution_count": 87,
   "metadata": {},
   "outputs": [],
   "source": [
    "import numpy as np\n",
    "import pandas as pd\n",
    "import sklearn\n",
    "import seaborn as sns\n",
    "from sklearn.preprocessing import StandardScaler\n",
    "from sklearn.model_selection import train_test_split\n",
    "import matplotlib.pyplot as plt\n",
    "%matplotlib inline"
   ]
  },
  {
   "cell_type": "code",
   "execution_count": 88,
   "metadata": {},
   "outputs": [],
   "source": [
    "from IPython.core.interactiveshell import InteractiveShell\n",
    "InteractiveShell.ast_node_interactivity = \"all\""
   ]
  },
  {
   "cell_type": "code",
   "execution_count": 89,
   "metadata": {},
   "outputs": [],
   "source": [
    "from sklearn import datasets\n",
    "file = \"../data/dexcomData.csv\""
   ]
  },
  {
   "cell_type": "code",
   "execution_count": 90,
   "metadata": {},
   "outputs": [],
   "source": [
    "glucose = pd.read_csv(file)"
   ]
  },
  {
   "cell_type": "code",
   "execution_count": 91,
   "metadata": {},
   "outputs": [
    {
     "data": {
      "text/html": [
       "<div>\n",
       "<style scoped>\n",
       "    .dataframe tbody tr th:only-of-type {\n",
       "        vertical-align: middle;\n",
       "    }\n",
       "\n",
       "    .dataframe tbody tr th {\n",
       "        vertical-align: top;\n",
       "    }\n",
       "\n",
       "    .dataframe thead th {\n",
       "        text-align: right;\n",
       "    }\n",
       "</style>\n",
       "<table border=\"1\" class=\"dataframe\">\n",
       "  <thead>\n",
       "    <tr style=\"text-align: right;\">\n",
       "      <th></th>\n",
       "      <th>Blood Glucose (mg/dL)</th>\n",
       "      <th>Rate (mg/dL/min)</th>\n",
       "      <th>Timestamp</th>\n",
       "    </tr>\n",
       "  </thead>\n",
       "  <tbody>\n",
       "    <tr>\n",
       "      <th>0</th>\n",
       "      <td>206.0</td>\n",
       "      <td>0.4</td>\n",
       "      <td>2018-10-27 21:27:07</td>\n",
       "    </tr>\n",
       "    <tr>\n",
       "      <th>1</th>\n",
       "      <td>205.0</td>\n",
       "      <td>0.3</td>\n",
       "      <td>2018-10-27 21:22:07</td>\n",
       "    </tr>\n",
       "    <tr>\n",
       "      <th>2</th>\n",
       "      <td>203.0</td>\n",
       "      <td>0.1</td>\n",
       "      <td>2018-10-27 21:17:07</td>\n",
       "    </tr>\n",
       "    <tr>\n",
       "      <th>3</th>\n",
       "      <td>202.0</td>\n",
       "      <td>0.1</td>\n",
       "      <td>2018-10-27 21:12:07</td>\n",
       "    </tr>\n",
       "    <tr>\n",
       "      <th>4</th>\n",
       "      <td>202.0</td>\n",
       "      <td>0.1</td>\n",
       "      <td>2018-10-27 21:07:07</td>\n",
       "    </tr>\n",
       "  </tbody>\n",
       "</table>\n",
       "</div>"
      ],
      "text/plain": [
       "   Blood Glucose (mg/dL)  Rate (mg/dL/min)            Timestamp\n",
       "0                  206.0               0.4  2018-10-27 21:27:07\n",
       "1                  205.0               0.3  2018-10-27 21:22:07\n",
       "2                  203.0               0.1  2018-10-27 21:17:07\n",
       "3                  202.0               0.1  2018-10-27 21:12:07\n",
       "4                  202.0               0.1  2018-10-27 21:07:07"
      ]
     },
     "execution_count": 91,
     "metadata": {},
     "output_type": "execute_result"
    }
   ],
   "source": [
    "glucose.head()"
   ]
  },
  {
   "cell_type": "code",
   "execution_count": 92,
   "metadata": {},
   "outputs": [
    {
     "data": {
      "text/html": [
       "<div>\n",
       "<style scoped>\n",
       "    .dataframe tbody tr th:only-of-type {\n",
       "        vertical-align: middle;\n",
       "    }\n",
       "\n",
       "    .dataframe tbody tr th {\n",
       "        vertical-align: top;\n",
       "    }\n",
       "\n",
       "    .dataframe thead th {\n",
       "        text-align: right;\n",
       "    }\n",
       "</style>\n",
       "<table border=\"1\" class=\"dataframe\">\n",
       "  <thead>\n",
       "    <tr style=\"text-align: right;\">\n",
       "      <th></th>\n",
       "      <th>Blood Glucose (mg/dL)</th>\n",
       "      <th>Rate (mg/dL/min)</th>\n",
       "      <th>Timestamp</th>\n",
       "    </tr>\n",
       "  </thead>\n",
       "  <tbody>\n",
       "    <tr>\n",
       "      <th>73525</th>\n",
       "      <td>72.0</td>\n",
       "      <td>0.8</td>\n",
       "      <td>2017-09-11 22:22:07</td>\n",
       "    </tr>\n",
       "    <tr>\n",
       "      <th>73524</th>\n",
       "      <td>78.0</td>\n",
       "      <td>1.2</td>\n",
       "      <td>2017-09-11 22:26:59</td>\n",
       "    </tr>\n",
       "    <tr>\n",
       "      <th>73523</th>\n",
       "      <td>69.0</td>\n",
       "      <td>0.6</td>\n",
       "      <td>2017-09-11 22:31:59</td>\n",
       "    </tr>\n",
       "    <tr>\n",
       "      <th>73522</th>\n",
       "      <td>70.0</td>\n",
       "      <td>12.7</td>\n",
       "      <td>2017-09-11 22:36:58</td>\n",
       "    </tr>\n",
       "    <tr>\n",
       "      <th>73521</th>\n",
       "      <td>61.0</td>\n",
       "      <td>12.7</td>\n",
       "      <td>2017-09-11 22:41:59</td>\n",
       "    </tr>\n",
       "    <tr>\n",
       "      <th>73520</th>\n",
       "      <td>39.0</td>\n",
       "      <td>-2.1</td>\n",
       "      <td>2017-09-11 22:46:59</td>\n",
       "    </tr>\n",
       "    <tr>\n",
       "      <th>73519</th>\n",
       "      <td>39.0</td>\n",
       "      <td>-2.2</td>\n",
       "      <td>2017-09-11 22:51:59</td>\n",
       "    </tr>\n",
       "    <tr>\n",
       "      <th>73518</th>\n",
       "      <td>39.0</td>\n",
       "      <td>-2.1</td>\n",
       "      <td>2017-09-11 22:56:58</td>\n",
       "    </tr>\n",
       "    <tr>\n",
       "      <th>73517</th>\n",
       "      <td>39.0</td>\n",
       "      <td>-0.8</td>\n",
       "      <td>2017-09-11 23:01:59</td>\n",
       "    </tr>\n",
       "    <tr>\n",
       "      <th>73516</th>\n",
       "      <td>39.0</td>\n",
       "      <td>-1.0</td>\n",
       "      <td>2017-09-11 23:06:59</td>\n",
       "    </tr>\n",
       "    <tr>\n",
       "      <th>73515</th>\n",
       "      <td>39.0</td>\n",
       "      <td>-0.8</td>\n",
       "      <td>2017-09-11 23:11:59</td>\n",
       "    </tr>\n",
       "    <tr>\n",
       "      <th>73514</th>\n",
       "      <td>39.0</td>\n",
       "      <td>12.7</td>\n",
       "      <td>2017-09-11 23:16:58</td>\n",
       "    </tr>\n",
       "    <tr>\n",
       "      <th>73513</th>\n",
       "      <td>39.0</td>\n",
       "      <td>12.7</td>\n",
       "      <td>2017-09-11 23:21:59</td>\n",
       "    </tr>\n",
       "    <tr>\n",
       "      <th>73512</th>\n",
       "      <td>48.0</td>\n",
       "      <td>12.7</td>\n",
       "      <td>2017-09-11 23:26:59</td>\n",
       "    </tr>\n",
       "    <tr>\n",
       "      <th>73511</th>\n",
       "      <td>77.0</td>\n",
       "      <td>12.7</td>\n",
       "      <td>2017-09-11 23:41:59</td>\n",
       "    </tr>\n",
       "    <tr>\n",
       "      <th>73510</th>\n",
       "      <td>80.0</td>\n",
       "      <td>12.7</td>\n",
       "      <td>2017-09-11 23:46:58</td>\n",
       "    </tr>\n",
       "    <tr>\n",
       "      <th>73509</th>\n",
       "      <td>74.0</td>\n",
       "      <td>12.7</td>\n",
       "      <td>2017-09-11 23:51:58</td>\n",
       "    </tr>\n",
       "    <tr>\n",
       "      <th>73508</th>\n",
       "      <td>73.0</td>\n",
       "      <td>12.7</td>\n",
       "      <td>2017-09-11 23:56:59</td>\n",
       "    </tr>\n",
       "    <tr>\n",
       "      <th>73507</th>\n",
       "      <td>62.0</td>\n",
       "      <td>12.7</td>\n",
       "      <td>2017-09-12 00:01:59</td>\n",
       "    </tr>\n",
       "    <tr>\n",
       "      <th>73506</th>\n",
       "      <td>58.0</td>\n",
       "      <td>12.7</td>\n",
       "      <td>2017-09-12 00:06:58</td>\n",
       "    </tr>\n",
       "    <tr>\n",
       "      <th>73505</th>\n",
       "      <td>55.0</td>\n",
       "      <td>-1.0</td>\n",
       "      <td>2017-09-12 00:11:58</td>\n",
       "    </tr>\n",
       "    <tr>\n",
       "      <th>73504</th>\n",
       "      <td>54.0</td>\n",
       "      <td>-0.7</td>\n",
       "      <td>2017-09-12 00:16:57</td>\n",
       "    </tr>\n",
       "    <tr>\n",
       "      <th>73503</th>\n",
       "      <td>51.0</td>\n",
       "      <td>-0.5</td>\n",
       "      <td>2017-09-12 00:21:58</td>\n",
       "    </tr>\n",
       "    <tr>\n",
       "      <th>73502</th>\n",
       "      <td>47.0</td>\n",
       "      <td>-0.5</td>\n",
       "      <td>2017-09-12 00:26:58</td>\n",
       "    </tr>\n",
       "    <tr>\n",
       "      <th>73501</th>\n",
       "      <td>43.0</td>\n",
       "      <td>-0.7</td>\n",
       "      <td>2017-09-12 00:31:57</td>\n",
       "    </tr>\n",
       "    <tr>\n",
       "      <th>73500</th>\n",
       "      <td>39.0</td>\n",
       "      <td>-0.8</td>\n",
       "      <td>2017-09-12 00:36:58</td>\n",
       "    </tr>\n",
       "    <tr>\n",
       "      <th>73499</th>\n",
       "      <td>39.0</td>\n",
       "      <td>-0.6</td>\n",
       "      <td>2017-09-12 00:41:58</td>\n",
       "    </tr>\n",
       "    <tr>\n",
       "      <th>73498</th>\n",
       "      <td>40.0</td>\n",
       "      <td>-0.2</td>\n",
       "      <td>2017-09-12 00:46:57</td>\n",
       "    </tr>\n",
       "    <tr>\n",
       "      <th>73497</th>\n",
       "      <td>42.0</td>\n",
       "      <td>0.1</td>\n",
       "      <td>2017-09-12 00:51:58</td>\n",
       "    </tr>\n",
       "    <tr>\n",
       "      <th>73496</th>\n",
       "      <td>70.0</td>\n",
       "      <td>0.5</td>\n",
       "      <td>2017-09-12 00:57:04</td>\n",
       "    </tr>\n",
       "    <tr>\n",
       "      <th>...</th>\n",
       "      <td>...</td>\n",
       "      <td>...</td>\n",
       "      <td>...</td>\n",
       "    </tr>\n",
       "    <tr>\n",
       "      <th>29</th>\n",
       "      <td>165.0</td>\n",
       "      <td>-0.5</td>\n",
       "      <td>2018-10-27 19:02:07</td>\n",
       "    </tr>\n",
       "    <tr>\n",
       "      <th>28</th>\n",
       "      <td>161.0</td>\n",
       "      <td>-0.9</td>\n",
       "      <td>2018-10-27 19:07:07</td>\n",
       "    </tr>\n",
       "    <tr>\n",
       "      <th>27</th>\n",
       "      <td>156.0</td>\n",
       "      <td>-1.0</td>\n",
       "      <td>2018-10-27 19:12:07</td>\n",
       "    </tr>\n",
       "    <tr>\n",
       "      <th>26</th>\n",
       "      <td>159.0</td>\n",
       "      <td>-0.5</td>\n",
       "      <td>2018-10-27 19:17:07</td>\n",
       "    </tr>\n",
       "    <tr>\n",
       "      <th>25</th>\n",
       "      <td>163.0</td>\n",
       "      <td>0.1</td>\n",
       "      <td>2018-10-27 19:22:08</td>\n",
       "    </tr>\n",
       "    <tr>\n",
       "      <th>24</th>\n",
       "      <td>160.0</td>\n",
       "      <td>0.1</td>\n",
       "      <td>2018-10-27 19:27:07</td>\n",
       "    </tr>\n",
       "    <tr>\n",
       "      <th>23</th>\n",
       "      <td>160.0</td>\n",
       "      <td>0.1</td>\n",
       "      <td>2018-10-27 19:32:07</td>\n",
       "    </tr>\n",
       "    <tr>\n",
       "      <th>22</th>\n",
       "      <td>160.0</td>\n",
       "      <td>-0.1</td>\n",
       "      <td>2018-10-27 19:37:06</td>\n",
       "    </tr>\n",
       "    <tr>\n",
       "      <th>21</th>\n",
       "      <td>163.0</td>\n",
       "      <td>0.2</td>\n",
       "      <td>2018-10-27 19:42:07</td>\n",
       "    </tr>\n",
       "    <tr>\n",
       "      <th>20</th>\n",
       "      <td>164.0</td>\n",
       "      <td>0.4</td>\n",
       "      <td>2018-10-27 19:47:07</td>\n",
       "    </tr>\n",
       "    <tr>\n",
       "      <th>19</th>\n",
       "      <td>167.0</td>\n",
       "      <td>0.6</td>\n",
       "      <td>2018-10-27 19:52:07</td>\n",
       "    </tr>\n",
       "    <tr>\n",
       "      <th>18</th>\n",
       "      <td>169.0</td>\n",
       "      <td>0.6</td>\n",
       "      <td>2018-10-27 19:57:07</td>\n",
       "    </tr>\n",
       "    <tr>\n",
       "      <th>17</th>\n",
       "      <td>176.0</td>\n",
       "      <td>0.9</td>\n",
       "      <td>2018-10-27 20:02:07</td>\n",
       "    </tr>\n",
       "    <tr>\n",
       "      <th>16</th>\n",
       "      <td>179.0</td>\n",
       "      <td>1.0</td>\n",
       "      <td>2018-10-27 20:07:07</td>\n",
       "    </tr>\n",
       "    <tr>\n",
       "      <th>15</th>\n",
       "      <td>186.0</td>\n",
       "      <td>1.3</td>\n",
       "      <td>2018-10-27 20:12:07</td>\n",
       "    </tr>\n",
       "    <tr>\n",
       "      <th>14</th>\n",
       "      <td>180.0</td>\n",
       "      <td>0.4</td>\n",
       "      <td>2018-10-27 20:17:07</td>\n",
       "    </tr>\n",
       "    <tr>\n",
       "      <th>13</th>\n",
       "      <td>189.0</td>\n",
       "      <td>0.8</td>\n",
       "      <td>2018-10-27 20:22:07</td>\n",
       "    </tr>\n",
       "    <tr>\n",
       "      <th>12</th>\n",
       "      <td>188.0</td>\n",
       "      <td>0.5</td>\n",
       "      <td>2018-10-27 20:27:07</td>\n",
       "    </tr>\n",
       "    <tr>\n",
       "      <th>11</th>\n",
       "      <td>190.0</td>\n",
       "      <td>0.6</td>\n",
       "      <td>2018-10-27 20:32:07</td>\n",
       "    </tr>\n",
       "    <tr>\n",
       "      <th>10</th>\n",
       "      <td>194.0</td>\n",
       "      <td>0.7</td>\n",
       "      <td>2018-10-27 20:37:07</td>\n",
       "    </tr>\n",
       "    <tr>\n",
       "      <th>9</th>\n",
       "      <td>196.0</td>\n",
       "      <td>0.6</td>\n",
       "      <td>2018-10-27 20:42:07</td>\n",
       "    </tr>\n",
       "    <tr>\n",
       "      <th>8</th>\n",
       "      <td>199.0</td>\n",
       "      <td>0.7</td>\n",
       "      <td>2018-10-27 20:47:07</td>\n",
       "    </tr>\n",
       "    <tr>\n",
       "      <th>7</th>\n",
       "      <td>200.0</td>\n",
       "      <td>0.5</td>\n",
       "      <td>2018-10-27 20:52:07</td>\n",
       "    </tr>\n",
       "    <tr>\n",
       "      <th>6</th>\n",
       "      <td>201.0</td>\n",
       "      <td>0.4</td>\n",
       "      <td>2018-10-27 20:57:07</td>\n",
       "    </tr>\n",
       "    <tr>\n",
       "      <th>5</th>\n",
       "      <td>202.0</td>\n",
       "      <td>0.3</td>\n",
       "      <td>2018-10-27 21:02:07</td>\n",
       "    </tr>\n",
       "    <tr>\n",
       "      <th>4</th>\n",
       "      <td>202.0</td>\n",
       "      <td>0.1</td>\n",
       "      <td>2018-10-27 21:07:07</td>\n",
       "    </tr>\n",
       "    <tr>\n",
       "      <th>3</th>\n",
       "      <td>202.0</td>\n",
       "      <td>0.1</td>\n",
       "      <td>2018-10-27 21:12:07</td>\n",
       "    </tr>\n",
       "    <tr>\n",
       "      <th>2</th>\n",
       "      <td>203.0</td>\n",
       "      <td>0.1</td>\n",
       "      <td>2018-10-27 21:17:07</td>\n",
       "    </tr>\n",
       "    <tr>\n",
       "      <th>1</th>\n",
       "      <td>205.0</td>\n",
       "      <td>0.3</td>\n",
       "      <td>2018-10-27 21:22:07</td>\n",
       "    </tr>\n",
       "    <tr>\n",
       "      <th>0</th>\n",
       "      <td>206.0</td>\n",
       "      <td>0.4</td>\n",
       "      <td>2018-10-27 21:27:07</td>\n",
       "    </tr>\n",
       "  </tbody>\n",
       "</table>\n",
       "<p>73526 rows × 3 columns</p>\n",
       "</div>"
      ],
      "text/plain": [
       "       Blood Glucose (mg/dL)  Rate (mg/dL/min)            Timestamp\n",
       "73525                   72.0               0.8  2017-09-11 22:22:07\n",
       "73524                   78.0               1.2  2017-09-11 22:26:59\n",
       "73523                   69.0               0.6  2017-09-11 22:31:59\n",
       "73522                   70.0              12.7  2017-09-11 22:36:58\n",
       "73521                   61.0              12.7  2017-09-11 22:41:59\n",
       "73520                   39.0              -2.1  2017-09-11 22:46:59\n",
       "73519                   39.0              -2.2  2017-09-11 22:51:59\n",
       "73518                   39.0              -2.1  2017-09-11 22:56:58\n",
       "73517                   39.0              -0.8  2017-09-11 23:01:59\n",
       "73516                   39.0              -1.0  2017-09-11 23:06:59\n",
       "73515                   39.0              -0.8  2017-09-11 23:11:59\n",
       "73514                   39.0              12.7  2017-09-11 23:16:58\n",
       "73513                   39.0              12.7  2017-09-11 23:21:59\n",
       "73512                   48.0              12.7  2017-09-11 23:26:59\n",
       "73511                   77.0              12.7  2017-09-11 23:41:59\n",
       "73510                   80.0              12.7  2017-09-11 23:46:58\n",
       "73509                   74.0              12.7  2017-09-11 23:51:58\n",
       "73508                   73.0              12.7  2017-09-11 23:56:59\n",
       "73507                   62.0              12.7  2017-09-12 00:01:59\n",
       "73506                   58.0              12.7  2017-09-12 00:06:58\n",
       "73505                   55.0              -1.0  2017-09-12 00:11:58\n",
       "73504                   54.0              -0.7  2017-09-12 00:16:57\n",
       "73503                   51.0              -0.5  2017-09-12 00:21:58\n",
       "73502                   47.0              -0.5  2017-09-12 00:26:58\n",
       "73501                   43.0              -0.7  2017-09-12 00:31:57\n",
       "73500                   39.0              -0.8  2017-09-12 00:36:58\n",
       "73499                   39.0              -0.6  2017-09-12 00:41:58\n",
       "73498                   40.0              -0.2  2017-09-12 00:46:57\n",
       "73497                   42.0               0.1  2017-09-12 00:51:58\n",
       "73496                   70.0               0.5  2017-09-12 00:57:04\n",
       "...                      ...               ...                  ...\n",
       "29                     165.0              -0.5  2018-10-27 19:02:07\n",
       "28                     161.0              -0.9  2018-10-27 19:07:07\n",
       "27                     156.0              -1.0  2018-10-27 19:12:07\n",
       "26                     159.0              -0.5  2018-10-27 19:17:07\n",
       "25                     163.0               0.1  2018-10-27 19:22:08\n",
       "24                     160.0               0.1  2018-10-27 19:27:07\n",
       "23                     160.0               0.1  2018-10-27 19:32:07\n",
       "22                     160.0              -0.1  2018-10-27 19:37:06\n",
       "21                     163.0               0.2  2018-10-27 19:42:07\n",
       "20                     164.0               0.4  2018-10-27 19:47:07\n",
       "19                     167.0               0.6  2018-10-27 19:52:07\n",
       "18                     169.0               0.6  2018-10-27 19:57:07\n",
       "17                     176.0               0.9  2018-10-27 20:02:07\n",
       "16                     179.0               1.0  2018-10-27 20:07:07\n",
       "15                     186.0               1.3  2018-10-27 20:12:07\n",
       "14                     180.0               0.4  2018-10-27 20:17:07\n",
       "13                     189.0               0.8  2018-10-27 20:22:07\n",
       "12                     188.0               0.5  2018-10-27 20:27:07\n",
       "11                     190.0               0.6  2018-10-27 20:32:07\n",
       "10                     194.0               0.7  2018-10-27 20:37:07\n",
       "9                      196.0               0.6  2018-10-27 20:42:07\n",
       "8                      199.0               0.7  2018-10-27 20:47:07\n",
       "7                      200.0               0.5  2018-10-27 20:52:07\n",
       "6                      201.0               0.4  2018-10-27 20:57:07\n",
       "5                      202.0               0.3  2018-10-27 21:02:07\n",
       "4                      202.0               0.1  2018-10-27 21:07:07\n",
       "3                      202.0               0.1  2018-10-27 21:12:07\n",
       "2                      203.0               0.1  2018-10-27 21:17:07\n",
       "1                      205.0               0.3  2018-10-27 21:22:07\n",
       "0                      206.0               0.4  2018-10-27 21:27:07\n",
       "\n",
       "[73526 rows x 3 columns]"
      ]
     },
     "execution_count": 92,
     "metadata": {},
     "output_type": "execute_result"
    }
   ],
   "source": [
    "glucose.sort_values('Timestamp')"
   ]
  },
  {
   "cell_type": "code",
   "execution_count": 93,
   "metadata": {},
   "outputs": [],
   "source": [
    "glucose['Timestamp'] = pd.to_datetime(glucose['Timestamp'])"
   ]
  },
  {
   "cell_type": "code",
   "execution_count": 94,
   "metadata": {},
   "outputs": [],
   "source": [
    "glucose['Timestamp'] = glucose['Timestamp'].dt.strftime('%Y%m%d').astype(float)"
   ]
  },
  {
   "cell_type": "code",
   "execution_count": 95,
   "metadata": {},
   "outputs": [],
   "source": [
    "x = glucose.drop('Blood Glucose (mg/dL)', axis = 1)"
   ]
  },
  {
   "cell_type": "code",
   "execution_count": 96,
   "metadata": {},
   "outputs": [],
   "source": [
    "y = glucose['Blood Glucose (mg/dL)']"
   ]
  },
  {
   "cell_type": "code",
   "execution_count": 97,
   "metadata": {},
   "outputs": [
    {
     "data": {
      "text/html": [
       "<div>\n",
       "<style scoped>\n",
       "    .dataframe tbody tr th:only-of-type {\n",
       "        vertical-align: middle;\n",
       "    }\n",
       "\n",
       "    .dataframe tbody tr th {\n",
       "        vertical-align: top;\n",
       "    }\n",
       "\n",
       "    .dataframe thead th {\n",
       "        text-align: right;\n",
       "    }\n",
       "</style>\n",
       "<table border=\"1\" class=\"dataframe\">\n",
       "  <thead>\n",
       "    <tr style=\"text-align: right;\">\n",
       "      <th></th>\n",
       "      <th>Rate (mg/dL/min)</th>\n",
       "      <th>Timestamp</th>\n",
       "    </tr>\n",
       "  </thead>\n",
       "  <tbody>\n",
       "    <tr>\n",
       "      <th>0</th>\n",
       "      <td>0.4</td>\n",
       "      <td>20181027.0</td>\n",
       "    </tr>\n",
       "    <tr>\n",
       "      <th>1</th>\n",
       "      <td>0.3</td>\n",
       "      <td>20181027.0</td>\n",
       "    </tr>\n",
       "    <tr>\n",
       "      <th>2</th>\n",
       "      <td>0.1</td>\n",
       "      <td>20181027.0</td>\n",
       "    </tr>\n",
       "    <tr>\n",
       "      <th>3</th>\n",
       "      <td>0.1</td>\n",
       "      <td>20181027.0</td>\n",
       "    </tr>\n",
       "    <tr>\n",
       "      <th>4</th>\n",
       "      <td>0.1</td>\n",
       "      <td>20181027.0</td>\n",
       "    </tr>\n",
       "  </tbody>\n",
       "</table>\n",
       "</div>"
      ],
      "text/plain": [
       "   Rate (mg/dL/min)   Timestamp\n",
       "0               0.4  20181027.0\n",
       "1               0.3  20181027.0\n",
       "2               0.1  20181027.0\n",
       "3               0.1  20181027.0\n",
       "4               0.1  20181027.0"
      ]
     },
     "execution_count": 97,
     "metadata": {},
     "output_type": "execute_result"
    },
    {
     "data": {
      "text/plain": [
       "numpy.float64"
      ]
     },
     "execution_count": 97,
     "metadata": {},
     "output_type": "execute_result"
    }
   ],
   "source": [
    "x.head()\n",
    "type(x['Timestamp'][0])"
   ]
  },
  {
   "cell_type": "code",
   "execution_count": 98,
   "metadata": {},
   "outputs": [
    {
     "data": {
      "text/plain": [
       "0    206.0\n",
       "1    205.0\n",
       "2    203.0\n",
       "3    202.0\n",
       "4    202.0\n",
       "Name: Blood Glucose (mg/dL), dtype: float64"
      ]
     },
     "execution_count": 98,
     "metadata": {},
     "output_type": "execute_result"
    }
   ],
   "source": [
    "y.head()"
   ]
  },
  {
   "cell_type": "code",
   "execution_count": 99,
   "metadata": {},
   "outputs": [
    {
     "data": {
      "text/plain": [
       "(51468, 2)"
      ]
     },
     "execution_count": 99,
     "metadata": {},
     "output_type": "execute_result"
    },
    {
     "data": {
      "text/plain": [
       "(22058, 2)"
      ]
     },
     "execution_count": 99,
     "metadata": {},
     "output_type": "execute_result"
    },
    {
     "data": {
      "text/plain": [
       "(51468,)"
      ]
     },
     "execution_count": 99,
     "metadata": {},
     "output_type": "execute_result"
    },
    {
     "data": {
      "text/plain": [
       "(22058,)"
      ]
     },
     "execution_count": 99,
     "metadata": {},
     "output_type": "execute_result"
    }
   ],
   "source": [
    "train_x, test_x, train_y, test_y = train_test_split(x, y, test_size = 0.3, random_state=1)\n",
    "train_x.shape\n",
    "test_x.shape\n",
    "train_y.shape\n",
    "test_y.shape"
   ]
  },
  {
   "cell_type": "code",
   "execution_count": 100,
   "metadata": {},
   "outputs": [],
   "source": [
    "from sklearn.linear_model import LinearRegression\n",
    "from sklearn.linear_model import Lasso\n",
    "from sklearn.linear_model import Ridge\n",
    "from sklearn.linear_model import ElasticNet"
   ]
  },
  {
   "cell_type": "code",
   "execution_count": 101,
   "metadata": {},
   "outputs": [],
   "source": [
    "lm = LinearRegression()"
   ]
  },
  {
   "cell_type": "code",
   "execution_count": 102,
   "metadata": {},
   "outputs": [],
   "source": [
    "lm_lasso = Lasso()"
   ]
  },
  {
   "cell_type": "code",
   "execution_count": 103,
   "metadata": {},
   "outputs": [],
   "source": [
    "lm_ridge = Ridge()"
   ]
  },
  {
   "cell_type": "code",
   "execution_count": 104,
   "metadata": {},
   "outputs": [],
   "source": [
    "lm_elastic = ElasticNet()"
   ]
  },
  {
   "cell_type": "code",
   "execution_count": 105,
   "metadata": {},
   "outputs": [
    {
     "data": {
      "text/plain": [
       "LinearRegression(copy_X=True, fit_intercept=True, n_jobs=None,\n",
       "         normalize=False)"
      ]
     },
     "execution_count": 105,
     "metadata": {},
     "output_type": "execute_result"
    }
   ],
   "source": [
    "lm"
   ]
  },
  {
   "cell_type": "code",
   "execution_count": 106,
   "metadata": {},
   "outputs": [
    {
     "data": {
      "text/plain": [
       "Lasso(alpha=1.0, copy_X=True, fit_intercept=True, max_iter=1000,\n",
       "   normalize=False, positive=False, precompute=False, random_state=None,\n",
       "   selection='cyclic', tol=0.0001, warm_start=False)"
      ]
     },
     "execution_count": 106,
     "metadata": {},
     "output_type": "execute_result"
    }
   ],
   "source": [
    "lm_lasso"
   ]
  },
  {
   "cell_type": "code",
   "execution_count": 107,
   "metadata": {},
   "outputs": [
    {
     "data": {
      "text/plain": [
       "Ridge(alpha=1.0, copy_X=True, fit_intercept=True, max_iter=None,\n",
       "   normalize=False, random_state=None, solver='auto', tol=0.001)"
      ]
     },
     "execution_count": 107,
     "metadata": {},
     "output_type": "execute_result"
    }
   ],
   "source": [
    "lm_ridge"
   ]
  },
  {
   "cell_type": "code",
   "execution_count": 108,
   "metadata": {},
   "outputs": [
    {
     "data": {
      "text/plain": [
       "ElasticNet(alpha=1.0, copy_X=True, fit_intercept=True, l1_ratio=0.5,\n",
       "      max_iter=1000, normalize=False, positive=False, precompute=False,\n",
       "      random_state=None, selection='cyclic', tol=0.0001, warm_start=False)"
      ]
     },
     "execution_count": 108,
     "metadata": {},
     "output_type": "execute_result"
    }
   ],
   "source": [
    "lm_elastic"
   ]
  },
  {
   "cell_type": "code",
   "execution_count": 109,
   "metadata": {},
   "outputs": [
    {
     "data": {
      "text/plain": [
       "LinearRegression(copy_X=True, fit_intercept=True, n_jobs=None,\n",
       "         normalize=False)"
      ]
     },
     "execution_count": 109,
     "metadata": {},
     "output_type": "execute_result"
    }
   ],
   "source": [
    "lm.fit(train_x, train_y)"
   ]
  },
  {
   "cell_type": "code",
   "execution_count": 115,
   "metadata": {},
   "outputs": [
    {
     "data": {
      "text/plain": [
       "<Figure size 1080x720 with 0 Axes>"
      ]
     },
     "execution_count": 115,
     "metadata": {},
     "output_type": "execute_result"
    },
    {
     "data": {
      "text/plain": [
       "<matplotlib.axes._subplots.AxesSubplot at 0x18d64228470>"
      ]
     },
     "execution_count": 115,
     "metadata": {},
     "output_type": "execute_result"
    },
    {
     "data": {
      "image/png": "[encoded data removed]",
      "text/plain": [
       "<Figure size 1080x720 with 1 Axes>"
      ]
     },
     "metadata": {
      "needs_background": "light"
     },
     "output_type": "display_data"
    }
   ],
   "source": [
    "plt.figure(figsize=(15,10))\n",
    "ft_importances_lm = pd.Series(lm.coef_, index= x.columns)\n",
    "ft_importances_lm.plot(kind='line')\n",
    "plt.show()"
   ]
  },
  {
   "cell_type": "code",
   "execution_count": null,
   "metadata": {},
   "outputs": [],
   "source": []
  }
 ],
 "metadata": {
  "kernelspec": {
   "display_name": "Python 3",
   "language": "python",
   "name": "python3"
  },
  "language_info": {
   "codemirror_mode": {
    "name": "ipython",
    "version": 3
   },
   "file_extension": ".py",
   "mimetype": "text/x-python",
   "name": "python",
   "nbconvert_exporter": "python",
   "pygments_lexer": "ipython3",
   "version": "3.7.1"
  }
 },
 "nbformat": 4,
 "nbformat_minor": 2
}
